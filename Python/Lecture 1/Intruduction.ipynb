{
 "cells": [
  {
   "cell_type": "markdown",
   "source": [
    "# Python\n",
    "Фио"
   ],
   "metadata": {
    "collapsed": false
   }
  },
  {
   "cell_type": "markdown",
   "source": [
    "## Assessment\n",
    "- Weekly homeworks (40%)\n",
    "- Projects (40%)\n",
    "- Contests (15%)\n",
    "- Lecture Quizzes (5%)\n",
    "- Exam [optional]"
   ],
   "metadata": {
    "collapsed": false
   }
  },
  {
   "cell_type": "markdown",
   "source": [
    "## Deadlines\n",
    "- Soft deadline: two weeks\n",
    "- Hard deadline: +1 week with 50% penalty"
   ],
   "metadata": {
    "collapsed": false
   }
  },
  {
   "cell_type": "markdown",
   "source": [
    "## Python info\n",
    "- Guido van Rossum creted Python in 1001 and named it after \"Monty Python\"\n",
    "- Python is high-level, interpreted, general-purpose progrsmming language that emplasizes code\n",
    "readability and simplicity\n",
    "- One of the most popular\n",
    "- Used in many fields (Web, DS, ML, Scripting)"
   ],
   "metadata": {
    "collapsed": false
   }
  },
  {
   "cell_type": "markdown",
   "source": [
    "## What does it mean \"high-level\" language?\n",
    "A high-level language is a programming language designed to simplify programming\n"
   ],
   "metadata": {
    "collapsed": false
   }
  },
  {
   "cell_type": "markdown",
   "source": [
    "## What does it mean \"interpreted\" language?\n",
    "Read step by step code and understood what need to do\n",
    "Main advantages are cross-platform, debug, run in interactive mode\n",
    "Main disadvantages is that usually run slower than compiled language"
   ],
   "metadata": {
    "collapsed": false
   }
  },
  {
   "cell_type": "markdown",
   "source": [
    "## What does it mean \"compiled\" language?\n",
    "Code is translated into machine code by a compiler before execution\n",
    "Main advantages are speed and possibility to optimize\n",
    "Main disadvantages is that usually less portable than interpreted programs, since we need to compile code for all platforms\n"
   ],
   "metadata": {
    "collapsed": false
   }
  },
  {
   "cell_type": "markdown",
   "source": [
    "## What does it mean \"general-purpose\" language?\n",
    "A language which can be used f or a large number of tasks"
   ],
   "metadata": {
    "collapsed": false
   }
  },
  {
   "cell_type": "markdown",
   "source": [
    "## What does it mean \"general-purpose\" language?\n",
    "Readability refers how easy it is to understand and maintain the written code\n"
   ],
   "metadata": {
    "collapsed": false
   }
  },
  {
   "cell_type": "code",
   "execution_count": 7,
   "outputs": [],
   "source": [
    "import this"
   ],
   "metadata": {
    "collapsed": false,
    "ExecuteTime": {
     "end_time": "2023-09-05T16:21:58.073806Z",
     "start_time": "2023-09-05T16:21:58.069783Z"
    }
   }
  },
  {
   "cell_type": "markdown",
   "source": [
    "## Simple  Math and Data Types"
   ],
   "metadata": {
    "collapsed": false
   }
  },
  {
   "cell_type": "code",
   "execution_count": 8,
   "outputs": [
    {
     "data": {
      "text/plain": "4"
     },
     "execution_count": 8,
     "metadata": {},
     "output_type": "execute_result"
    }
   ],
   "source": [
    "2 + 2"
   ],
   "metadata": {
    "collapsed": false,
    "ExecuteTime": {
     "end_time": "2023-09-05T16:22:23.035372Z",
     "start_time": "2023-09-05T16:22:23.031292Z"
    }
   }
  },
  {
   "cell_type": "code",
   "execution_count": 9,
   "outputs": [
    {
     "data": {
      "text/plain": "6"
     },
     "execution_count": 9,
     "metadata": {},
     "output_type": "execute_result"
    }
   ],
   "source": [
    "2 + 2 *2"
   ],
   "metadata": {
    "collapsed": false,
    "ExecuteTime": {
     "end_time": "2023-09-05T16:22:23.365231Z",
     "start_time": "2023-09-05T16:22:23.353763Z"
    }
   }
  },
  {
   "cell_type": "markdown",
   "source": [
    "## Comments"
   ],
   "metadata": {
    "collapsed": false
   }
  },
  {
   "cell_type": "code",
   "execution_count": 10,
   "outputs": [],
   "source": [
    "# this cell do nothing"
   ],
   "metadata": {
    "collapsed": false,
    "ExecuteTime": {
     "end_time": "2023-09-05T16:22:43.083481Z",
     "start_time": "2023-09-05T16:22:43.046103Z"
    }
   }
  },
  {
   "cell_type": "code",
   "execution_count": 12,
   "outputs": [
    {
     "data": {
      "text/plain": "'\\nThese cells\\ndo nothing'"
     },
     "execution_count": 12,
     "metadata": {},
     "output_type": "execute_result"
    }
   ],
   "source": [
    "\"\"\"\n",
    "These cells\n",
    "do nothing\"\"\"\n"
   ],
   "metadata": {
    "collapsed": false,
    "ExecuteTime": {
     "end_time": "2023-09-05T16:22:58.022988Z",
     "start_time": "2023-09-05T16:22:58.017701Z"
    }
   }
  },
  {
   "cell_type": "markdown",
   "source": [
    "## Arithmetic operators"
   ],
   "metadata": {
    "collapsed": false
   }
  },
  {
   "cell_type": "code",
   "execution_count": 13,
   "outputs": [
    {
     "data": {
      "text/plain": "1.6666666666666667"
     },
     "execution_count": 13,
     "metadata": {},
     "output_type": "execute_result"
    }
   ],
   "source": [
    "5 / 3"
   ],
   "metadata": {
    "collapsed": false,
    "ExecuteTime": {
     "end_time": "2023-09-05T16:23:10.701302Z",
     "start_time": "2023-09-05T16:23:10.696229Z"
    }
   }
  },
  {
   "cell_type": "code",
   "execution_count": 14,
   "outputs": [
    {
     "data": {
      "text/plain": "1"
     },
     "execution_count": 14,
     "metadata": {},
     "output_type": "execute_result"
    }
   ],
   "source": [
    "5 // 3"
   ],
   "metadata": {
    "collapsed": false,
    "ExecuteTime": {
     "end_time": "2023-09-05T16:23:12.947565Z",
     "start_time": "2023-09-05T16:23:12.941436Z"
    }
   }
  },
  {
   "cell_type": "code",
   "execution_count": 15,
   "outputs": [
    {
     "data": {
      "text/plain": "2"
     },
     "execution_count": 15,
     "metadata": {},
     "output_type": "execute_result"
    }
   ],
   "source": [
    "5 % 3"
   ],
   "metadata": {
    "collapsed": false,
    "ExecuteTime": {
     "end_time": "2023-09-05T16:23:14.654291Z",
     "start_time": "2023-09-05T16:23:14.648852Z"
    }
   }
  },
  {
   "cell_type": "code",
   "execution_count": 16,
   "outputs": [
    {
     "data": {
      "text/plain": "125"
     },
     "execution_count": 16,
     "metadata": {},
     "output_type": "execute_result"
    }
   ],
   "source": [
    "5 ** 3"
   ],
   "metadata": {
    "collapsed": false,
    "ExecuteTime": {
     "end_time": "2023-09-05T16:23:16.205414Z",
     "start_time": "2023-09-05T16:23:16.200427Z"
    }
   }
  },
  {
   "cell_type": "markdown",
   "source": [
    "## Arithmetic Types (1/2)\n",
    "- There are 2 main types in numbers: integers and floats\n",
    "- Integers are whole numbers, floats are numbers with a decimal point\n",
    "- Integers can be of any size, floats' precision is limited by 8 bytes if memory"
   ],
   "metadata": {
    "collapsed": false
   }
  },
  {
   "cell_type": "code",
   "execution_count": 18,
   "outputs": [
    {
     "data": {
      "text/plain": "(123, 123, 123, 123)"
     },
     "execution_count": 18,
     "metadata": {},
     "output_type": "execute_result"
    }
   ],
   "source": [
    "123, 0b1111011, 0o173, 0x7b"
   ],
   "metadata": {
    "collapsed": false,
    "ExecuteTime": {
     "end_time": "2023-09-05T16:25:07.462386Z",
     "start_time": "2023-09-05T16:25:07.457016Z"
    }
   }
  },
  {
   "cell_type": "code",
   "execution_count": 19,
   "outputs": [
    {
     "data": {
      "text/plain": "10912023779495736565140102152745674171535173450139870259481454696887330044567"
     },
     "execution_count": 19,
     "metadata": {},
     "output_type": "execute_result"
    }
   ],
   "source": [
    "# No limit on how large an integer can be\n",
    "2023 ** 23"
   ],
   "metadata": {
    "collapsed": false,
    "ExecuteTime": {
     "end_time": "2023-09-05T16:25:28.300969Z",
     "start_time": "2023-09-05T16:25:28.259709Z"
    }
   }
  },
  {
   "cell_type": "code",
   "execution_count": 20,
   "outputs": [
    {
     "data": {
      "text/plain": "(1.5, 150.0, 0.015)"
     },
     "execution_count": 20,
     "metadata": {},
     "output_type": "execute_result"
    }
   ],
   "source": [
    "# float numbers have 2 forms: decimal and scientific\n",
    "1.5, 1.5e2, 1.5e-2"
   ],
   "metadata": {
    "collapsed": false,
    "ExecuteTime": {
     "end_time": "2023-09-05T16:26:26.102754Z",
     "start_time": "2023-09-05T16:26:26.098585Z"
    }
   }
  },
  {
   "cell_type": "code",
   "execution_count": 21,
   "outputs": [
    {
     "data": {
      "text/plain": "0.30000000000000004"
     },
     "execution_count": 21,
     "metadata": {},
     "output_type": "execute_result"
    }
   ],
   "source": [
    "# float numbers have limited precision, take it into account\n",
    "0.1 + 0.1 + 0.1 # not equal to 0.3"
   ],
   "metadata": {
    "collapsed": false,
    "ExecuteTime": {
     "end_time": "2023-09-05T16:27:31.213787Z",
     "start_time": "2023-09-05T16:27:31.207981Z"
    }
   }
  },
  {
   "cell_type": "markdown",
   "source": [
    "## Arithmetic Types (2/2)\n",
    "`int` type besides the usual arithmetic operations supports bitwise operations"
   ],
   "metadata": {
    "collapsed": false
   }
  },
  {
   "cell_type": "code",
   "execution_count": 22,
   "outputs": [
    {
     "data": {
      "text/plain": "(8, 8)"
     },
     "execution_count": 22,
     "metadata": {},
     "output_type": "execute_result"
    }
   ],
   "source": [
    "# bitwise and\n",
    "10 & 12, 0b1010 & 0b1100"
   ],
   "metadata": {
    "collapsed": false,
    "ExecuteTime": {
     "end_time": "2023-09-05T16:29:18.033572Z",
     "start_time": "2023-09-05T16:29:18.029407Z"
    }
   }
  },
  {
   "cell_type": "code",
   "execution_count": 23,
   "outputs": [
    {
     "data": {
      "text/plain": "(14, 12)"
     },
     "execution_count": 23,
     "metadata": {},
     "output_type": "execute_result"
    }
   ],
   "source": [
    "# bitwise or\n",
    "10 | 12, 0b1100"
   ],
   "metadata": {
    "collapsed": false,
    "ExecuteTime": {
     "end_time": "2023-09-05T16:29:28.087217Z",
     "start_time": "2023-09-05T16:29:28.082728Z"
    }
   }
  },
  {
   "cell_type": "code",
   "execution_count": 24,
   "outputs": [
    {
     "data": {
      "text/plain": "(6, 6)"
     },
     "execution_count": 24,
     "metadata": {},
     "output_type": "execute_result"
    }
   ],
   "source": [
    "# bitwise xor\n",
    "10 ^ 12, 0b1010 ^ 0b1100"
   ],
   "metadata": {
    "collapsed": false,
    "ExecuteTime": {
     "end_time": "2023-09-05T16:29:42.303126Z",
     "start_time": "2023-09-05T16:29:42.298578Z"
    }
   }
  },
  {
   "cell_type": "code",
   "execution_count": 26,
   "outputs": [
    {
     "data": {
      "text/plain": "(40, 20)"
     },
     "execution_count": 26,
     "metadata": {},
     "output_type": "execute_result"
    }
   ],
   "source": [
    "# left/right shift\n",
    "10 << 2, 0b101 << 2"
   ],
   "metadata": {
    "collapsed": false,
    "ExecuteTime": {
     "end_time": "2023-09-05T16:30:03.509130Z",
     "start_time": "2023-09-05T16:30:03.505678Z"
    }
   }
  },
  {
   "cell_type": "code",
   "execution_count": 28,
   "outputs": [
    {
     "name": "stdout",
     "output_type": "stream",
     "text": [
      "4.37 ns ± 0.153 ns per loop (mean ± std. dev. of 7 runs, 100,000,000 loops each)\n"
     ]
    }
   ],
   "source": [
    "%%timeit\n",
    "10 / 2"
   ],
   "metadata": {
    "collapsed": false,
    "ExecuteTime": {
     "end_time": "2023-09-05T16:30:22.367838Z",
     "start_time": "2023-09-05T16:30:18.846340Z"
    }
   }
  },
  {
   "cell_type": "code",
   "execution_count": 29,
   "outputs": [
    {
     "name": "stdout",
     "output_type": "stream",
     "text": [
      "4.23 ns ± 0.0546 ns per loop (mean ± std. dev. of 7 runs, 100,000,000 loops each)\n"
     ]
    }
   ],
   "source": [
    "%%timeit\n",
    "10 << 2"
   ],
   "metadata": {
    "collapsed": false,
    "ExecuteTime": {
     "end_time": "2023-09-05T16:30:26.563554Z",
     "start_time": "2023-09-05T16:30:23.137514Z"
    }
   }
  },
  {
   "cell_type": "markdown",
   "source": [
    "## Arithmetic Types: Type Conversions\n",
    "There are two types of type conversions: implicit and explicit\n",
    "- Implicit type conversion is performed automatically by the interpreter (`int` -> `float`)\n",
    "- Explicit type conversion is performed by the programmer, using built-it functions (`int()`, `float()`, `str()`)"
   ],
   "metadata": {
    "collapsed": false
   }
  },
  {
   "cell_type": "code",
   "execution_count": 32,
   "outputs": [
    {
     "data": {
      "text/plain": "3.5"
     },
     "execution_count": 32,
     "metadata": {},
     "output_type": "execute_result"
    }
   ],
   "source": [
    "# Automatically convert\n",
    "1 + 2.5"
   ],
   "metadata": {
    "collapsed": false,
    "ExecuteTime": {
     "end_time": "2023-09-05T16:33:01.048784Z",
     "start_time": "2023-09-05T16:33:01.046406Z"
    }
   }
  },
  {
   "cell_type": "code",
   "execution_count": 33,
   "outputs": [
    {
     "data": {
      "text/plain": "(2.0, 3)"
     },
     "execution_count": 33,
     "metadata": {},
     "output_type": "execute_result"
    }
   ],
   "source": [
    "# Explicit convert\n",
    "float(2), int(3.5)"
   ],
   "metadata": {
    "collapsed": false,
    "ExecuteTime": {
     "end_time": "2023-09-05T16:33:09.891580Z",
     "start_time": "2023-09-05T16:33:09.891055Z"
    }
   }
  },
  {
   "cell_type": "code",
   "execution_count": 34,
   "outputs": [
    {
     "data": {
      "text/plain": "(123, 83, 1.23)"
     },
     "execution_count": 34,
     "metadata": {},
     "output_type": "execute_result"
    }
   ],
   "source": [
    "# int() and float() may be used to convert strings to integer and float numbers\n",
    "int('123'), int('123', 8), float('1.23')"
   ],
   "metadata": {
    "collapsed": false,
    "ExecuteTime": {
     "end_time": "2023-09-05T16:33:55.488246Z",
     "start_time": "2023-09-05T16:33:55.485927Z"
    }
   }
  },
  {
   "cell_type": "markdown",
   "source": [
    "## Arithmetic Types: notes about division\n",
    "- In Python 3.x the operator `/` always performs float division\n",
    "- Integer division of negative numbers is rounded towards minus infinity (floor division)\n",
    "- The `%` operator returns the remainder of the division"
   ],
   "metadata": {
    "collapsed": false
   }
  },
  {
   "cell_type": "code",
   "execution_count": 35,
   "outputs": [
    {
     "data": {
      "text/plain": "(2, 2.5)"
     },
     "execution_count": 35,
     "metadata": {},
     "output_type": "execute_result"
    }
   ],
   "source": [
    "5 // 2, 5 / 2"
   ],
   "metadata": {
    "collapsed": false,
    "ExecuteTime": {
     "end_time": "2023-09-05T16:35:29.605843Z",
     "start_time": "2023-09-05T16:35:29.600093Z"
    }
   }
  },
  {
   "cell_type": "code",
   "execution_count": 36,
   "outputs": [
    {
     "data": {
      "text/plain": "(-2, -2)"
     },
     "execution_count": 36,
     "metadata": {},
     "output_type": "execute_result"
    }
   ],
   "source": [
    "-5 // 3, 5 // -3"
   ],
   "metadata": {
    "collapsed": false,
    "ExecuteTime": {
     "end_time": "2023-09-05T16:35:39.901685Z",
     "start_time": "2023-09-05T16:35:39.895947Z"
    }
   }
  },
  {
   "cell_type": "code",
   "execution_count": 38,
   "outputs": [
    {
     "data": {
      "text/plain": "(1, -1)"
     },
     "execution_count": 38,
     "metadata": {},
     "output_type": "execute_result"
    }
   ],
   "source": [
    "# The % operator returns the remainder of the division (the value of the remainder has the same sign as the divisor)\n",
    "-5 % 3, 5 % -3"
   ],
   "metadata": {
    "collapsed": false,
    "ExecuteTime": {
     "end_time": "2023-09-05T16:36:21.143586Z",
     "start_time": "2023-09-05T16:36:21.140888Z"
    }
   }
  },
  {
   "cell_type": "markdown",
   "source": [
    "## Boolean Type\n",
    "- The `bool` type represents boolean values: `True` and `False`\n",
    "- Boolean values support the usual logical operations: `and`, `or`, `not`\n",
    "- Booleans are automatucally converted to any arithmetic types: `True` = `1`, `False` = `0`\n",
    "- An opposite conversation is also possible"
   ],
   "metadata": {
    "collapsed": false
   }
  },
  {
   "cell_type": "code",
   "execution_count": 39,
   "outputs": [
    {
     "data": {
      "text/plain": "(False, True, False)"
     },
     "execution_count": 39,
     "metadata": {},
     "output_type": "execute_result"
    }
   ],
   "source": [
    "True and False, True or False, not True"
   ],
   "metadata": {
    "collapsed": false,
    "ExecuteTime": {
     "end_time": "2023-09-05T16:37:55.159620Z",
     "start_time": "2023-09-05T16:37:55.139579Z"
    }
   }
  },
  {
   "cell_type": "code",
   "execution_count": 40,
   "outputs": [
    {
     "data": {
      "text/plain": "(2, 0)"
     },
     "execution_count": 40,
     "metadata": {},
     "output_type": "execute_result"
    }
   ],
   "source": [
    "True + 1, False * 42"
   ],
   "metadata": {
    "collapsed": false,
    "ExecuteTime": {
     "end_time": "2023-09-05T16:38:01.578505Z",
     "start_time": "2023-09-05T16:38:01.565136Z"
    }
   }
  },
  {
   "cell_type": "code",
   "execution_count": 43,
   "outputs": [
    {
     "data": {
      "text/plain": "(False, True, True, False, True)"
     },
     "execution_count": 43,
     "metadata": {},
     "output_type": "execute_result"
    }
   ],
   "source": [
    "bool(0), bool(42), bool(-1), bool(0.0 + 0.0 + 0.0), bool(0.1)"
   ],
   "metadata": {
    "collapsed": false,
    "ExecuteTime": {
     "end_time": "2023-09-05T16:38:55.060374Z",
     "start_time": "2023-09-05T16:38:55.054312Z"
    }
   }
  },
  {
   "cell_type": "markdown",
   "source": [
    "## Short circuit evaluation\n",
    "- The second operand is evaluated only if the first operand dows not determine the result\n",
    "- `and`: if the first operand is `False`, the result is `False`\n",
    "- `or`: if the first operand is `True`, the results is `True`"
   ],
   "metadata": {
    "collapsed": false
   }
  },
  {
   "cell_type": "code",
   "execution_count": 44,
   "outputs": [
    {
     "ename": "ZeroDivisionError",
     "evalue": "division by zero",
     "output_type": "error",
     "traceback": [
      "\u001B[0;31m---------------------------------------------------------------------------\u001B[0m",
      "\u001B[0;31mZeroDivisionError\u001B[0m                         Traceback (most recent call last)",
      "Cell \u001B[0;32mIn[44], line 1\u001B[0m\n\u001B[0;32m----> 1\u001B[0m \u001B[38;5;241;43m1\u001B[39;49m\u001B[43m \u001B[49m\u001B[38;5;241;43m/\u001B[39;49m\u001B[43m \u001B[49m\u001B[38;5;241;43m0\u001B[39;49m\n",
      "\u001B[0;31mZeroDivisionError\u001B[0m: division by zero"
     ]
    }
   ],
   "source": [
    "1 / 0"
   ],
   "metadata": {
    "collapsed": false,
    "ExecuteTime": {
     "end_time": "2023-09-05T16:40:02.745225Z",
     "start_time": "2023-09-05T16:40:02.623143Z"
    }
   }
  },
  {
   "cell_type": "code",
   "execution_count": 45,
   "outputs": [
    {
     "data": {
      "text/plain": "False"
     },
     "execution_count": 45,
     "metadata": {},
     "output_type": "execute_result"
    }
   ],
   "source": [
    "False and 1 / 0"
   ],
   "metadata": {
    "collapsed": false,
    "ExecuteTime": {
     "end_time": "2023-09-05T16:40:06.738305Z",
     "start_time": "2023-09-05T16:40:06.718352Z"
    }
   }
  },
  {
   "cell_type": "code",
   "execution_count": 46,
   "outputs": [
    {
     "data": {
      "text/plain": "True"
     },
     "execution_count": 46,
     "metadata": {},
     "output_type": "execute_result"
    }
   ],
   "source": [
    "True or 1 / 0"
   ],
   "metadata": {
    "collapsed": false,
    "ExecuteTime": {
     "end_time": "2023-09-05T16:44:26.620720Z",
     "start_time": "2023-09-05T16:44:26.600643Z"
    }
   }
  },
  {
   "cell_type": "markdown",
   "source": [
    "## Comparison Operators\n",
    "- Comparison operators are used to compare values\n",
    "- The result of cpmparison is a boolean value: `True` or `False`\n",
    "- `==` - equal, `!=` - not equal, `>` - greater than, `<` - smaller than"
   ],
   "metadata": {
    "collapsed": false
   }
  },
  {
   "cell_type": "code",
   "execution_count": 47,
   "outputs": [
    {
     "data": {
      "text/plain": "False"
     },
     "execution_count": 47,
     "metadata": {},
     "output_type": "execute_result"
    }
   ],
   "source": [
    "1.1 + 2.2 == 3.3"
   ],
   "metadata": {
    "collapsed": false,
    "ExecuteTime": {
     "end_time": "2023-09-05T16:46:41.819190Z",
     "start_time": "2023-09-05T16:46:41.802166Z"
    }
   }
  },
  {
   "cell_type": "code",
   "execution_count": 48,
   "outputs": [
    {
     "data": {
      "text/plain": "True"
     },
     "execution_count": 48,
     "metadata": {},
     "output_type": "execute_result"
    }
   ],
   "source": [
    "# To compare float values, we need to use a tolerance\n",
    "abs((1.1 + 2.2) - 3.3) < 1e-10"
   ],
   "metadata": {
    "collapsed": false,
    "ExecuteTime": {
     "end_time": "2023-09-05T16:46:55.823100Z",
     "start_time": "2023-09-05T16:46:55.800831Z"
    }
   }
  },
  {
   "cell_type": "code",
   "execution_count": 50,
   "outputs": [
    {
     "data": {
      "text/plain": "(True, True)"
     },
     "execution_count": 50,
     "metadata": {},
     "output_type": "execute_result"
    }
   ],
   "source": [
    "# It is possible to write a sequence of comparisons (it is parsed in the same way as mathematical notations\n",
    "1 < 2 < 3, 1 < 2 > 0"
   ],
   "metadata": {
    "collapsed": false,
    "ExecuteTime": {
     "end_time": "2023-09-05T16:48:09.610283Z",
     "start_time": "2023-09-05T16:48:09.600931Z"
    }
   }
  },
  {
   "cell_type": "markdown",
   "source": [
    "## Variables (1/3)\n",
    "- Everything in Python is an object\n",
    "- Objects have types\n",
    "- Variables are just names for objects"
   ],
   "metadata": {
    "collapsed": false
   }
  },
  {
   "cell_type": "code",
   "execution_count": 51,
   "outputs": [
    {
     "data": {
      "text/plain": "(2, int)"
     },
     "execution_count": 51,
     "metadata": {},
     "output_type": "execute_result"
    }
   ],
   "source": [
    "2, type(2)"
   ],
   "metadata": {
    "collapsed": false,
    "ExecuteTime": {
     "end_time": "2023-09-05T16:51:10.947317Z",
     "start_time": "2023-09-05T16:51:10.925022Z"
    }
   }
  },
  {
   "cell_type": "code",
   "execution_count": 52,
   "outputs": [
    {
     "data": {
      "text/plain": "(2, int)"
     },
     "execution_count": 52,
     "metadata": {},
     "output_type": "execute_result"
    }
   ],
   "source": [
    "a = 2\n",
    "a, type(a)"
   ],
   "metadata": {
    "collapsed": false,
    "ExecuteTime": {
     "end_time": "2023-09-05T16:51:16.919844Z",
     "start_time": "2023-09-05T16:51:16.859731Z"
    }
   }
  },
  {
   "cell_type": "code",
   "execution_count": 53,
   "outputs": [
    {
     "data": {
      "text/plain": "6"
     },
     "execution_count": 53,
     "metadata": {},
     "output_type": "execute_result"
    }
   ],
   "source": [
    "a * (a + 1)"
   ],
   "metadata": {
    "collapsed": false,
    "ExecuteTime": {
     "end_time": "2023-09-05T16:51:24.239814Z",
     "start_time": "2023-09-05T16:51:24.217927Z"
    }
   }
  },
  {
   "cell_type": "markdown",
   "source": [
    "## Variables (2/3)\n",
    "What happens if we assign a variable to another variable?\n",
    "In python, the default is reference semantics: if you assign a variable to another variable, new variable refers to the same value"
   ],
   "metadata": {
    "collapsed": false
   }
  },
  {
   "cell_type": "code",
   "execution_count": 57,
   "outputs": [
    {
     "name": "stdout",
     "output_type": "stream",
     "text": [
      "12345 12345\n"
     ]
    }
   ],
   "source": [
    "a = 12345\n",
    "b = a\n",
    "print(a, b)"
   ],
   "metadata": {
    "collapsed": false,
    "ExecuteTime": {
     "end_time": "2023-09-05T16:57:15.068Z",
     "start_time": "2023-09-05T16:57:15.060960Z"
    }
   }
  },
  {
   "cell_type": "markdown",
   "source": [
    "But how we know, that `a` and `b` refer to the same object?"
   ],
   "metadata": {
    "collapsed": false
   }
  },
  {
   "cell_type": "code",
   "execution_count": 59,
   "outputs": [
    {
     "data": {
      "text/plain": "(4437851984, 4437851984, 4437850704)"
     },
     "execution_count": 59,
     "metadata": {},
     "output_type": "execute_result"
    }
   ],
   "source": [
    "# Hint 1. Every object has unique number\n",
    "id(a), id(b), id(12345)"
   ],
   "metadata": {
    "collapsed": false,
    "ExecuteTime": {
     "end_time": "2023-09-05T16:57:41.351253Z",
     "start_time": "2023-09-05T16:57:41.346199Z"
    }
   }
  },
  {
   "cell_type": "code",
   "execution_count": 60,
   "outputs": [],
   "source": [
    "# Hint 2. Use is operator"
   ],
   "metadata": {
    "collapsed": false,
    "ExecuteTime": {
     "end_time": "2023-09-05T17:01:25.046798Z",
     "start_time": "2023-09-05T17:01:25.027261Z"
    }
   }
  },
  {
   "cell_type": "code",
   "execution_count": 61,
   "outputs": [
    {
     "data": {
      "text/plain": "(True, False)"
     },
     "execution_count": 61,
     "metadata": {},
     "output_type": "execute_result"
    }
   ],
   "source": [
    "c = 12345\n",
    "a is b, a is c"
   ],
   "metadata": {
    "collapsed": false,
    "ExecuteTime": {
     "end_time": "2023-09-05T17:01:32.483900Z",
     "start_time": "2023-09-05T17:01:32.461504Z"
    }
   }
  },
  {
   "cell_type": "markdown",
   "source": [
    "## Variables (3/3)\n",
    "- Can be reassigned to another velue\n",
    "- No need to delete an old value\n",
    "- object fdeleted when the number of references reaches zero"
   ],
   "metadata": {
    "collapsed": false
   }
  },
  {
   "cell_type": "code",
   "execution_count": 62,
   "outputs": [
    {
     "data": {
      "text/plain": "12347"
     },
     "execution_count": 62,
     "metadata": {},
     "output_type": "execute_result"
    }
   ],
   "source": [
    "a = a + 1\n",
    "a += 1\n",
    "a"
   ],
   "metadata": {
    "collapsed": false,
    "ExecuteTime": {
     "end_time": "2023-09-05T17:02:40.269831Z",
     "start_time": "2023-09-05T17:02:40.237844Z"
    }
   }
  },
  {
   "cell_type": "code",
   "execution_count": 64,
   "outputs": [
    {
     "ename": "NameError",
     "evalue": "name 'a' is not defined",
     "output_type": "error",
     "traceback": [
      "\u001B[0;31m---------------------------------------------------------------------------\u001B[0m",
      "\u001B[0;31mNameError\u001B[0m                                 Traceback (most recent call last)",
      "Cell \u001B[0;32mIn[64], line 2\u001B[0m\n\u001B[1;32m      1\u001B[0m \u001B[38;5;66;03m# You can use `del` statement to remove a variable\u001B[39;00m\n\u001B[0;32m----> 2\u001B[0m \u001B[38;5;28;01mdel\u001B[39;00m \u001B[43ma\u001B[49m\n\u001B[1;32m      3\u001B[0m a\n",
      "\u001B[0;31mNameError\u001B[0m: name 'a' is not defined"
     ]
    }
   ],
   "source": [
    "# You can use `del` statement to remove a variable\n",
    "del a\n",
    "a"
   ],
   "metadata": {
    "collapsed": false,
    "ExecuteTime": {
     "end_time": "2023-09-05T17:03:09.525025Z",
     "start_time": "2023-09-05T17:03:09.517114Z"
    }
   }
  },
  {
   "cell_type": "markdown",
   "source": [
    "## Dynamic Typing\n",
    "- Python is a dynamically typed language\n",
    "- The type of a variable is determined by the value it refers to\n",
    "- Type check via `type()`"
   ],
   "metadata": {
    "collapsed": false
   }
  },
  {
   "cell_type": "code",
   "execution_count": 65,
   "outputs": [],
   "source": [
    "x = 1\n",
    "x = \"Hello\""
   ],
   "metadata": {
    "collapsed": false,
    "ExecuteTime": {
     "end_time": "2023-09-05T17:04:04.054344Z",
     "start_time": "2023-09-05T17:04:04.033165Z"
    }
   }
  },
  {
   "cell_type": "code",
   "execution_count": 66,
   "outputs": [
    {
     "data": {
      "text/plain": "('Hello', str)"
     },
     "execution_count": 66,
     "metadata": {},
     "output_type": "execute_result"
    }
   ],
   "source": [
    "x, type(x)"
   ],
   "metadata": {
    "collapsed": false,
    "ExecuteTime": {
     "end_time": "2023-09-05T17:04:07.897556Z",
     "start_time": "2023-09-05T17:04:07.873860Z"
    }
   }
  },
  {
   "cell_type": "markdown",
   "source": [
    "## Conditional Statement (1 /2)"
   ],
   "metadata": {
    "collapsed": false
   }
  },
  {
   "cell_type": "code",
   "execution_count": 69,
   "outputs": [
    {
     "name": "stdout",
     "output_type": "stream",
     "text": [
      "Positive\n"
     ]
    }
   ],
   "source": [
    "x = 11\n",
    "if x > 0:\n",
    "    print(\"Positive\")\n",
    "elif x == 0:\n",
    "    print(\"Zero\")\n",
    "else:\n",
    "    print(\"Negative\")"
   ],
   "metadata": {
    "collapsed": false,
    "ExecuteTime": {
     "end_time": "2023-09-05T17:07:09.587104Z",
     "start_time": "2023-09-05T17:07:09.578361Z"
    }
   }
  },
  {
   "cell_type": "markdown",
   "source": [
    "## Conditional Statement (2 /2)\n",
    "May not be a bool value\n",
    "- None\n",
    "- False\n",
    "- 0\n",
    "- 0.0\n",
    "- any empty sequence"
   ],
   "metadata": {
    "collapsed": false
   }
  },
  {
   "cell_type": "code",
   "execution_count": 70,
   "outputs": [],
   "source": [
    "x = 0\n",
    "if x:\n",
    "    print(1 / x)"
   ],
   "metadata": {
    "collapsed": false,
    "ExecuteTime": {
     "end_time": "2023-09-05T17:08:54.162236Z",
     "start_time": "2023-09-05T17:08:54.140414Z"
    }
   }
  },
  {
   "cell_type": "code",
   "execution_count": 71,
   "outputs": [
    {
     "name": "stdout",
     "output_type": "stream",
     "text": [
      "1.0\n"
     ]
    }
   ],
   "source": [
    "x = 1\n",
    "if x:\n",
    "    print(1 / x)"
   ],
   "metadata": {
    "collapsed": false,
    "ExecuteTime": {
     "end_time": "2023-09-05T17:09:00.716860Z",
     "start_time": "2023-09-05T17:09:00.691800Z"
    }
   }
  },
  {
   "cell_type": "markdown",
   "source": [
    "To save the space and make the program more readable we can use conditional operator"
   ],
   "metadata": {
    "collapsed": false
   }
  },
  {
   "cell_type": "code",
   "execution_count": 72,
   "outputs": [
    {
     "name": "stdout",
     "output_type": "stream",
     "text": [
      "Not Zero\n"
     ]
    },
    {
     "data": {
      "text/plain": "-5"
     },
     "execution_count": 72,
     "metadata": {},
     "output_type": "execute_result"
    }
   ],
   "source": [
    "print(\"Zero\" if x == 0 else \"Not Zero\")\n",
    "x = 5 if x == 0 else -5\n",
    "x"
   ],
   "metadata": {
    "collapsed": false,
    "ExecuteTime": {
     "end_time": "2023-09-05T17:09:52.186644Z",
     "start_time": "2023-09-05T17:09:52.164085Z"
    }
   }
  },
  {
   "cell_type": "markdown",
   "source": [
    "## Loops (1 /3)\n",
    "- `for` loop iterates over a given sequence\n",
    "- `while` loop repeats as long as certain boolean condition is met"
   ],
   "metadata": {
    "collapsed": false
   }
  },
  {
   "cell_type": "code",
   "execution_count": 73,
   "outputs": [
    {
     "name": "stdout",
     "output_type": "stream",
     "text": [
      "1\n",
      "2\n",
      "3\n"
     ]
    }
   ],
   "source": [
    "for x in 1, 2, 3:\n",
    "    print(x)"
   ],
   "metadata": {
    "collapsed": false,
    "ExecuteTime": {
     "end_time": "2023-09-05T17:11:38.670647Z",
     "start_time": "2023-09-05T17:11:38.639478Z"
    }
   }
  },
  {
   "cell_type": "code",
   "execution_count": 75,
   "outputs": [
    {
     "name": "stdout",
     "output_type": "stream",
     "text": [
      "1\n",
      "2\n",
      "3\n"
     ]
    }
   ],
   "source": [
    "x = 1\n",
    "while x < 4:\n",
    "    print(x)\n",
    "    x += 1"
   ],
   "metadata": {
    "collapsed": false,
    "ExecuteTime": {
     "end_time": "2023-09-05T17:11:51.050745Z",
     "start_time": "2023-09-05T17:11:51.036258Z"
    }
   }
  },
  {
   "cell_type": "markdown",
   "source": [
    "## Loop (2/3)\n",
    "use `range` function!\n",
    "- `range(n)` -- 0, 1, ..., n - 1\n",
    "- `range(a, b)` -- a, a + 1, ..., b - 1\n",
    "- `range(a, b, step)` -- numbers from a to b -1 with step"
   ],
   "metadata": {
    "collapsed": false
   }
  },
  {
   "cell_type": "code",
   "execution_count": 77,
   "outputs": [
    {
     "name": "stdout",
     "output_type": "stream",
     "text": [
      "0 1 2 3 4 5 6 7 8 9 "
     ]
    }
   ],
   "source": [
    "for i in range(10):\n",
    "    print(i, end=' ')"
   ],
   "metadata": {
    "collapsed": false,
    "ExecuteTime": {
     "end_time": "2023-09-05T17:13:58.913211Z",
     "start_time": "2023-09-05T17:13:58.908762Z"
    }
   }
  },
  {
   "cell_type": "code",
   "execution_count": 78,
   "outputs": [
    {
     "name": "stdout",
     "output_type": "stream",
     "text": [
      "4 5 6 7 8 9 "
     ]
    }
   ],
   "source": [
    "for i in range(4, 10):\n",
    "    print(i, end=' ')"
   ],
   "metadata": {
    "collapsed": false,
    "ExecuteTime": {
     "end_time": "2023-09-05T17:14:04.723856Z",
     "start_time": "2023-09-05T17:14:04.699997Z"
    }
   }
  },
  {
   "cell_type": "code",
   "execution_count": 79,
   "outputs": [
    {
     "name": "stdout",
     "output_type": "stream",
     "text": [
      "4 6 8 "
     ]
    }
   ],
   "source": [
    "for i in range(4, 10, 2):\n",
    "    print(i, end=' ')"
   ],
   "metadata": {
    "collapsed": false,
    "ExecuteTime": {
     "end_time": "2023-09-05T17:14:09.680374Z",
     "start_time": "2023-09-05T17:14:09.646991Z"
    }
   }
  },
  {
   "cell_type": "markdown",
   "source": [
    "## Loops (3/3)\n",
    "- `break` statement terminates the loop immediately\n",
    "- `continue` statement skips the rest of the loop body and starts the next iteration"
   ],
   "metadata": {
    "collapsed": false
   }
  },
  {
   "cell_type": "code",
   "execution_count": 80,
   "outputs": [],
   "source": [
    "for x in range(1, 11, 2):\n",
    "    if x % 2 == 0:\n",
    "        print(x)\n",
    "        break"
   ],
   "metadata": {
    "collapsed": false,
    "ExecuteTime": {
     "end_time": "2023-09-05T17:15:19.903103Z",
     "start_time": "2023-09-05T17:15:19.872586Z"
    }
   }
  },
  {
   "cell_type": "code",
   "execution_count": 81,
   "outputs": [],
   "source": [
    "while x > 0:\n",
    "    x -= 1\n",
    "    continue\n",
    "    print(x)"
   ],
   "metadata": {
    "collapsed": false,
    "ExecuteTime": {
     "end_time": "2023-09-05T17:15:30.648156Z",
     "start_time": "2023-09-05T17:15:30.617718Z"
    }
   }
  },
  {
   "cell_type": "code",
   "execution_count": 82,
   "outputs": [
    {
     "name": "stdout",
     "output_type": "stream",
     "text": [
      "All numbers are odd\n"
     ]
    }
   ],
   "source": [
    "# Цикл завершился корректно, если нет break, тогда попадаем в else\n",
    "for x in range(1, 11, 2):\n",
    "    if x % 2 == 0:\n",
    "        print(x)\n",
    "        break\n",
    "else:\n",
    "    print(\"All numbers are odd\")"
   ],
   "metadata": {
    "collapsed": false,
    "ExecuteTime": {
     "end_time": "2023-09-05T17:15:57.593592Z",
     "start_time": "2023-09-05T17:15:57.559221Z"
    }
   }
  },
  {
   "cell_type": "markdown",
   "source": [
    "## Input and Output Basics (1/2)\n",
    "- In interactive mode we see the result of the last line code, but we cannot see others\n",
    "- Also we cannot see the result of the last line of code in non-interactive mode\n",
    "- To print the result of an expression we can use the `print()` function\n",
    "- `print()` by defaults prints its arguments separated by spaces and with a newline at the end\n",
    "- We can change the separator and the end of line using the `sep` and `end` keywords"
   ],
   "metadata": {
    "collapsed": false
   }
  },
  {
   "cell_type": "code",
   "execution_count": 83,
   "outputs": [
    {
     "name": "stdout",
     "output_type": "stream",
     "text": [
      "5----Hello, world!!!!\n"
     ]
    }
   ],
   "source": [
    "print(2 + 3, 'Hello, world!', sep='----', end='!!!\\n')"
   ],
   "metadata": {
    "collapsed": false,
    "ExecuteTime": {
     "end_time": "2023-09-05T17:19:20.529641Z",
     "start_time": "2023-09-05T17:19:20.489370Z"
    }
   }
  },
  {
   "cell_type": "markdown",
   "source": [
    "## Input and Output Basics (2/2)\n",
    "- To read a line from a standard input we can use the `input()` function\n",
    "- `input()` has an optional argument: a promt string\n",
    "- `input()` returns string value. To convert it to desired type we can use conversion function"
   ],
   "metadata": {
    "collapsed": false
   }
  },
  {
   "cell_type": "code",
   "execution_count": 84,
   "outputs": [
    {
     "data": {
      "text/plain": "('123', str)"
     },
     "execution_count": 84,
     "metadata": {},
     "output_type": "execute_result"
    }
   ],
   "source": [
    "x = input()\n",
    "x, type(x)"
   ],
   "metadata": {
    "collapsed": false,
    "ExecuteTime": {
     "end_time": "2023-09-05T17:21:00.799553Z",
     "start_time": "2023-09-05T17:20:58.424043Z"
    }
   }
  },
  {
   "cell_type": "code",
   "execution_count": 85,
   "outputs": [
    {
     "data": {
      "text/plain": "('321', str)"
     },
     "execution_count": 85,
     "metadata": {},
     "output_type": "execute_result"
    }
   ],
   "source": [
    "x = input(\"Enter a number\")\n",
    "x, type(x)"
   ],
   "metadata": {
    "collapsed": false,
    "ExecuteTime": {
     "end_time": "2023-09-05T17:21:21.780506Z",
     "start_time": "2023-09-05T17:21:13.662906Z"
    }
   }
  },
  {
   "cell_type": "code",
   "execution_count": null,
   "outputs": [],
   "source": [],
   "metadata": {
    "collapsed": false
   }
  }
 ],
 "metadata": {
  "kernelspec": {
   "display_name": "Python 3",
   "language": "python",
   "name": "python3"
  },
  "language_info": {
   "codemirror_mode": {
    "name": "ipython",
    "version": 2
   },
   "file_extension": ".py",
   "mimetype": "text/x-python",
   "name": "python",
   "nbconvert_exporter": "python",
   "pygments_lexer": "ipython2",
   "version": "2.7.6"
  }
 },
 "nbformat": 4,
 "nbformat_minor": 0
}
