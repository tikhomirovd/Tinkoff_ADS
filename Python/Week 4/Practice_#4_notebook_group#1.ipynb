{
 "cells": [
  {
   "cell_type": "markdown",
   "source": [
    "# <center><b>Семинар №4</b></center>\n",
    "## <center>Ссылка на ноутбук\n",
    "    \n",
    "<center>\n",
    "    \n",
    "![Image title](lesson_notebook_data/QR_group_2.png)\n",
    "    \n"
   ],
   "metadata": {
    "noteable": {
     "cell_type": "markdown"
    }
   },
   "id": "0c3aeb5c"
  },
  {
   "cell_type": "code",
   "source": [
    "# Импорты"
   ],
   "outputs": [],
   "execution_count": 1,
   "metadata": {
    "noteable": {
     "cell_type": "python"
    },
    "jupyter": {
     "source_hidden": true,
     "outputs_hidden": true
    },
    "ExecuteTime": {
     "end_time": "2023-09-30T08:22:54.559033Z",
     "start_time": "2023-09-30T08:22:54.525443Z"
    }
   },
   "id": "6fb9e796-4cc2-427c-b2ab-d5409306f41f"
  },
  {
   "cell_type": "markdown",
   "source": [
    "## 1. Множества (Sets)\n",
    "\n",
    "![Image title](lesson_notebook_data/sets.png)\n",
    "\n",
    "<br>Добавление и проверка наличия происходит за O(1), удаление - тоже за O(1) (с поправкой на коллизии).\n",
    "\n",
    "\n",
    "<html>\n",
    "<body>\n",
    "\n",
    "<h3><center>Основные операции с множествами в Python</center></h3>\n",
    "\n",
    "<table>\n",
    "  <tr>\n",
    "    <th>Функция</th>\n",
    "    <th>Описание</th>\n",
    "  </tr>\n",
    "  <tr>\n",
    "    <td>set.update(other, ...); set |= other | ...</td>\n",
    "    <td>Объединение</td>\n",
    "  </tr>\n",
    "  <tr>\n",
    "    <td>set.intersection_update(other, ...); set &= other & ...</td>\n",
    "    <td>Пересечение</td>\n",
    "  </tr>\n",
    "  <tr>\n",
    "    <td>set.difference_update(other, ...); set -= other | ...</td>\n",
    "    <td>Вычитание</td>\n",
    "  </tr>\n",
    "  <tr>\n",
    "    <td>set.symmetric_difference_update(other); set ^= other</td>\n",
    "    <td>Множество из элементов, встречающихся в одном множестве, но не встречающиеся в обоих</td>\n",
    "  </tr>\n",
    "  <tr>\n",
    "    <td>set.add(elem)</td>\n",
    "    <td>Добавляет элемент в множество</td>\n",
    "  </tr>\n",
    "  <tr>\n",
    "    <td>set.remove(elem)</td>\n",
    "    <td>Удаляет элемент из множества. KeyError, если такого элемента не существует</td>\n",
    "  </tr>\n",
    "  <tr>\n",
    "    <td>set.discard(elem)</td>\n",
    "    <td>Удаляет элемент, если он находится в множестве</td>\n",
    "  </tr>\n",
    "  <tr>\n",
    "    <td>set.pop()</td>\n",
    "    <td>Удаляет первый элемент из множества. Так как множества не упорядочены, нельзя точно сказать, какой элемент будет первым</td>\n",
    "  </tr>\n",
    "  <tr>\n",
    "    <td>set.clear()</td>\n",
    "    <td>Очистка множества</td>\n",
    "  </tr>\n",
    "</table>\n",
    "\n",
    "</body>\n",
    "</html>"
   ],
   "metadata": {
    "noteable": {
     "cell_type": "markdown"
    }
   },
   "id": "91879406-3c4d-4df9-bc91-fc82f52bbfbc"
  },
  {
   "cell_type": "markdown",
   "source": [
    "### <font color='#1334ab'>Задание №1: Попрактикуем базовые операции над множествами. Создадим 2 списка случайных целых чисел от 0 до 1000 случайной длины от 1000 до 10_000 и определим:\n",
    "\n",
    "- Количество различных чисел в списке №1\n",
    "- Количество совпадающих чисел в обоих списках\n",
    "- Количество чисел, которые есть в первом листе, и которых нет во втором, и наоборот \n",
    "\n",
    "\n",
    "</font>"
   ],
   "metadata": {
    "noteable": {
     "cell_type": "markdown"
    }
   },
   "id": "91712e6f-98f2-4df2-9dd0-ab6539583ef3"
  },
  {
   "cell_type": "code",
   "source": [
    "import numpy as np\n",
    "import random\n",
    "\n",
    "arr1 = [random.randint(0, 1000) for i in range(random.randint(1000, 10000))]\n",
    "\n",
    "arr2 = [random.randint(0, 1000) for i in range(random.randint(1000, 10000))]\n",
    "\n",
    "print(len(set(arr1)))\n",
    "print(len(set(arr1) & set(arr2)))\n",
    "print(len(set(arr1) ^ (set(arr2))))"
   ],
   "outputs": [
    {
     "name": "stdout",
     "output_type": "stream",
     "text": [
      "918\n",
      "718\n",
      "269\n"
     ]
    }
   ],
   "execution_count": 2,
   "metadata": {
    "noteable": {
     "cell_type": "python"
    },
    "ExecuteTime": {
     "end_time": "2023-09-30T08:22:55.134940Z",
     "start_time": "2023-09-30T08:22:54.534554Z"
    }
   },
   "id": "875c1063-1d40-4836-9240-d1a3d741ddcf"
  },
  {
   "cell_type": "markdown",
   "source": [
    "### <font color='#1334ab'>Задание №2: Проверим, действительно ли множества работают быстрее, чем, например, списки. Сгенерируем список целых чисел от 0 до 1_000_000 и множество из этого списка, далее замерим время проверки вхождения элемента в список и в множество</font>"
   ],
   "metadata": {
    "noteable": {
     "cell_type": "markdown"
    }
   },
   "id": "35d9ad0b-9db7-498d-b5a4-e5ecea3658b6"
  },
  {
   "cell_type": "code",
   "source": [
    "import time\n",
    "arr = [random.randint(0, 1000000) for i in range(1000000)]\n",
    "s = set(arr)\n",
    "pass"
   ],
   "outputs": [],
   "execution_count": 3,
   "metadata": {
    "noteable": {
     "cell_type": "python"
    },
    "ExecuteTime": {
     "end_time": "2023-09-30T08:22:58.626834Z",
     "start_time": "2023-09-30T08:22:58.126704Z"
    }
   },
   "id": "ca6aa46a-dfa5-41b3-979e-9ac163c9d08a"
  },
  {
   "cell_type": "code",
   "source": [
    "number = 100\n"
   ],
   "outputs": [],
   "execution_count": 4,
   "metadata": {
    "noteable": {
     "cell_type": "code"
    },
    "ExecuteTime": {
     "end_time": "2023-09-30T08:23:43.759727Z",
     "start_time": "2023-09-30T08:23:43.753851Z"
    }
   },
   "id": "b07466e8-e17e-4311-b348-fd875696872a"
  },
  {
   "cell_type": "code",
   "execution_count": 5,
   "outputs": [
    {
     "name": "stdout",
     "output_type": "stream",
     "text": [
      "2.26 ms ± 439 µs per loop (mean ± std. dev. of 7 runs, 100 loops each)\n"
     ]
    }
   ],
   "source": [
    "%%timeit\n",
    "number in arr"
   ],
   "metadata": {
    "collapsed": false,
    "ExecuteTime": {
     "end_time": "2023-09-30T08:23:56.274737Z",
     "start_time": "2023-09-30T08:23:54.476324Z"
    }
   },
   "id": "1f78df4922d1d82e"
  },
  {
   "cell_type": "code",
   "execution_count": 7,
   "outputs": [
    {
     "name": "stdout",
     "output_type": "stream",
     "text": [
      "16.2 ns ± 0.511 ns per loop (mean ± std. dev. of 7 runs, 100,000,000 loops each)\n"
     ]
    }
   ],
   "source": [
    "%%timeit\n",
    "number in s"
   ],
   "metadata": {
    "collapsed": false,
    "ExecuteTime": {
     "end_time": "2023-09-30T08:24:32.441450Z",
     "start_time": "2023-09-30T08:24:19.162128Z"
    }
   },
   "id": "e5c278ff45c180c"
  },
  {
   "cell_type": "markdown",
   "source": [
    "### <font color='#1334ab'>Задание №3: Во входном файле (вы можете прочитать данные из файла \"input_text.txt\" в папке \"lesson_notebook_data\") записан текст. Словом считается последовательность непробельных символов идущих подряд, слова разделены одним или большим числом пробелов или символами конца строки. Определите, сколько различных слов содержится в этом тексте </font>"
   ],
   "metadata": {
    "noteable": {
     "cell_type": "markdown"
    }
   },
   "id": "9adbd3d8-f937-4cf0-bd23-9564fcacfab4"
  },
  {
   "cell_type": "code",
   "source": [
    "with open(\"input_text.txt\", 'r') as f:\n",
    "    print(len(set(f.read().lower().replace(\",\", \"\").replace(\"!\", \"\").split(\" \"))))\n",
    "    "
   ],
   "outputs": [
    {
     "name": "stdout",
     "output_type": "stream",
     "text": [
      "2107\n"
     ]
    }
   ],
   "execution_count": 9,
   "metadata": {
    "noteable": {
     "cell_type": "python"
    },
    "ExecuteTime": {
     "end_time": "2023-09-30T08:33:56.333518Z",
     "start_time": "2023-09-30T08:33:56.327785Z"
    }
   },
   "id": "50db4669-2e12-416b-af2c-9f5302893b18"
  },
  {
   "cell_type": "markdown",
   "source": [
    "### <font color='#1334ab'>Задание №4: Ник и Алекс играют в игру. Ник загадал натуральное число от 1 до n. Алекс пытается угадать это число, для этого он называет некоторые натуральные числа. Ник отвечает Алексу YES, если среди названных им чисел есть задуманное или NO в противном случае. После нескольких заданных вопросов Алекс запутался в том, какие вопросы он задавал и какие ответы получил и просит вас помочь ей определить, какое число мог задумать Август.\n",
    "\n",
    "Особенности взаимодействия:\n",
    "- Ник называет максимальное (разумное) число, которое он мог загадать\n",
    "- Далее Алекс называет числа, которые мог загадать Ник (каждый input представляет собой набор чисел, разделенных пробелами)\n",
    "- После каждого вопроса Ник отвечает YES или NO\n",
    "</font>"
   ],
   "metadata": {
    "noteable": {
     "cell_type": "markdown"
    }
   },
   "id": "08a55fc9-d515-4706-8b70-c46a793de9b5"
  },
  {
   "cell_type": "code",
   "source": [],
   "outputs": [],
   "execution_count": null,
   "metadata": {
    "noteable": {
     "cell_type": "python"
    },
    "ExecuteTime": {
     "end_time": "2023-09-29T19:07:11.371261+00:00",
     "start_time": "2023-09-29T19:07:11.214761+00:00"
    }
   },
   "id": "2a62ac4a-8bd2-4771-bd10-22d18021465e"
  },
  {
   "cell_type": "markdown",
   "source": [
    "## 2. Словари (Dictionaries)\n",
    "\n",
    "![Image title](lesson_notebook_data/dict_preview.png)\n",
    "\n",
    "![Image title](lesson_notebook_data/dictionary.png)"
   ],
   "metadata": {
    "noteable": {
     "cell_type": "markdown"
    }
   },
   "id": "3afc3e1d-ad40-48aa-be8d-7e6683aeeb74"
  },
  {
   "cell_type": "markdown",
   "source": [
    "### <center>Основные функции и методы словарей в Python</center>\n",
    "\n",
    "<html>\n",
    "<head>\n",
    "    <title>Функции словарей Python</title>\n",
    "</head>\n",
    "<body>\n",
    "\n",
    "<table border=\"1\">\n",
    "    <tr>\n",
    "        <th>Название функции</th>\n",
    "        <th>Описание</th>\n",
    "    </tr>\n",
    "    <tr>\n",
    "        <td>dict.clear()</td>\n",
    "        <td>Очищает словарь.</td>\n",
    "    </tr>\n",
    "    <tr>\n",
    "        <td>dict.copy()</td>\n",
    "        <td>Возвращает копию словаря.</td>\n",
    "    </tr>\n",
    "    <tr>\n",
    "        <td>classmethod dict.fromkeys(seq[, value])</td>\n",
    "        <td>Создает словарь с ключами из seq и значением value (по умолчанию None).</td>\n",
    "    </tr>\n",
    "    <tr>\n",
    "        <td>dict.get(key[, default])</td>\n",
    "        <td>Возвращает значение ключа, или default, если ключ отсутствует (по умолчанию None).</td>\n",
    "    </tr>\n",
    "    <tr>\n",
    "        <td><b>dict.items()</b></td>\n",
    "        <td>Возвращает пары (ключ, значение).</td>\n",
    "    </tr>\n",
    "    <tr>\n",
    "        <td><b>dict.keys()</b></td>\n",
    "        <td>Возвращает ключи в словаре.</td>\n",
    "    </tr>\n",
    "    <tr>\n",
    "        <td>dict.pop(key[, default])</td>\n",
    "        <td>Удаляет ключ и возвращает значение. Если ключа нет, возвращает default (по умолчанию бросает исключение).</td>\n",
    "    </tr>\n",
    "    <tr>\n",
    "        <td>dict.popitem()</td>\n",
    "        <td>Удаляет и возвращает пару (ключ, значение). Если словарь пуст, бросает исключение KeyError. Помните, что словари неупорядочены.</td>\n",
    "    </tr>\n",
    "    <tr>\n",
    "        <td>dict.setdefault(key[, default])</td>\n",
    "        <td>Возвращает значение ключа, или создает ключ со значением default, если ключ отсутствует (по умолчанию None).</td>\n",
    "    </tr>\n",
    "    <tr>\n",
    "        <td>dict.update([other])</td>\n",
    "        <td>Обновляет словарь, добавляя пары (ключ, значение) из other. Существующие ключи перезаписываются. Возвращает None (не новый словарь!).</td>\n",
    "    </tr>\n",
    "    <tr>\n",
    "        <td><b>dict.values()</b></td>\n",
    "        <td>Возвращает значения в словаре.</td>\n",
    "    </tr>\n",
    "</table>\n",
    "\n",
    "</body>\n",
    "</html>"
   ],
   "metadata": {
    "noteable": {
     "cell_type": "markdown"
    }
   },
   "id": "b668182d-eba7-4874-9597-17a059cca861"
  },
  {
   "cell_type": "markdown",
   "source": [
    "### <font color='#1334ab'>Задание №5: Дан случайный словарь и случайная переменная. Напишите функцию, который будет возвращать True, если данная переменная является ключом словаря, и False, если не является</font>"
   ],
   "metadata": {
    "noteable": {
     "cell_type": "markdown"
    }
   },
   "id": "b75779d7-ba34-49e6-8b20-357b7a522b21"
  },
  {
   "cell_type": "code",
   "source": [
    "def is_key(d: dict, key):\n",
    "    return key in d.keys()"
   ],
   "outputs": [],
   "execution_count": null,
   "metadata": {
    "noteable": {
     "cell_type": "python"
    },
    "ExecuteTime": {
     "end_time": "2023-09-29T19:12:31.175647+00:00",
     "start_time": "2023-09-29T19:12:31.018227+00:00"
    }
   },
   "id": "092a2582-584d-4ab2-8b34-e097e39464df"
  },
  {
   "cell_type": "markdown",
   "source": [
    "### <font color='#1334ab'>Задание №6: Дан словарь, состоящий из количества лайков и дизлайков (см. примеры). Вернуть общий рейтинг — разность между лайками и дизлайками</font>\n",
    "\n",
    "<i>get_vote_count({ \"лайки\": 13, \"дизлайки\": 0 }) ➞ 13<br>\n",
    "get_vote_count({ \"лайки\": 2, \"дизлайки\": 33 }) ➞ -31</i>"
   ],
   "metadata": {
    "noteable": {
     "cell_type": "markdown"
    }
   },
   "id": "51bcf84f-6ff4-4066-b664-509d9145d314"
  },
  {
   "cell_type": "code",
   "source": [
    "pass\n",
    "def get_vote_count(d: dict):\n",
    "    return dict['лайки'] - dict['дизлайки']"
   ],
   "outputs": [],
   "execution_count": null,
   "metadata": {
    "noteable": {
     "cell_type": "python"
    }
   },
   "id": "bdef569d-44b7-4910-9281-56280b122d4b"
  },
  {
   "cell_type": "markdown",
   "source": [
    "### <font color='#1334ab'>Задание №7: Вам подается на вход словарь, где ключи - буквы английского алфавита, а значения - целые числа. Напишите функцию, которая будет возвращать 3 ключа, у которых значения будут максимальные среди всех значений данного словаря.</font>"
   ],
   "metadata": {
    "noteable": {
     "cell_type": "markdown"
    }
   },
   "id": "0922d70e-679e-48b4-8ce8-212ed73eafbe"
  },
  {
   "cell_type": "code",
   "source": [
    "my_dict = {'a': 888, 'b': 94, 'c': 417,'d': 30,'e': 327,'f': 224,'g': 332,'h': 2,'i': 56,'j': 99,'k': 223, 'l': 26, 'm': 39, 'n': 810, 'o': 841, 'p': 16, 'q': 870, 'r': 338, 's': 44, 't': 296, 'u': 694, 'v': 701, 'w': 952, 'x': 123, 'y': 466, 'z': 407}\n",
    "\n",
    "def top_three_keys(d: dict):\n",
    "    return sorted(d.items(), key=lambda x: x[1], reverse=True)[:3]\n",
    "\n",
    "top_three_keys(my_dict)\n"
   ],
   "outputs": [
    {
     "data": {
      "text/plain": "[('w', 952), ('a', 888), ('q', 870)]"
     },
     "execution_count": 10,
     "metadata": {},
     "output_type": "execute_result"
    }
   ],
   "execution_count": 10,
   "metadata": {
    "noteable": {
     "cell_type": "python"
    },
    "ExecuteTime": {
     "end_time": "2023-09-30T08:38:32.517685Z",
     "start_time": "2023-09-30T08:38:32.514592Z"
    }
   },
   "id": "56cf9386-3deb-4035-b119-b64a4625139e"
  },
  {
   "cell_type": "markdown",
   "source": [
    "### <font color='#1334ab'>Задание №8: Дана база данных о продажах некоторого интернет-магазина. Каждая строка входного файла представляет собой запись вида <font color='#CE1126'>\"Покупатель товар количество\"</font>, где Покупатель — имя покупателя (строка без пробелов), товар — название товара (строка без пробелов), количество — количество приобретенных единиц товара. Создайте список всех покупателей, а для каждого покупателя подсчитайте количество приобретенных им единиц каждого вида товаров.\n",
    "\n",
    "Вводятся сведения о покупках в формате:\n",
    "<br>Ivanov paper 10\n",
    "<br>Petrov pens 5\n",
    "<br>Ivanov marker 3\n",
    "<br>Ivanov paper 7\n",
    "<br>Petrov envelope 20\n",
    "<br>Ivanov envelope 5\n",
    "\n",
    "<br><b>Вывод</b>:\n",
    "<br>Ivanov:\n",
    "<br>envelope 5\n",
    "<br>marker 3\n",
    "<br>paper 17\n",
    "<br>Petrov:\n",
    "<br>envelope 20\n",
    "<br>pens 5\n",
    "</font> "
   ],
   "metadata": {
    "noteable": {
     "cell_type": "markdown"
    }
   },
   "id": "c51f7bdb-8e63-446c-8e47-c7bb934282fb"
  },
  {
   "cell_type": "code",
   "source": [
    "clients_info = \"\"\"Ivanov paper 10\n",
    "Petrov pens 5\n",
    "Ivanov marker 3\n",
    "Ivanov paper 7\n",
    "Petrov envelope 20\n",
    "Ivanov envelope 5\"\"\"\n",
    "\n",
    "def client(clients_info):\n",
    "    lines = clients_info.split(\"\\n\")\n",
    "    d = {}\n",
    "    for line in lines:\n",
    "        client, item, quantity = line.split(\" \")\n",
    "        if client in d:\n",
    "            d[client] += int(quantity)\n",
    "        else:\n",
    "            d[client] = 0\n",
    "    return d\n",
    "        \n",
    "client(clients_info)\n"
   ],
   "outputs": [
    {
     "data": {
      "text/plain": "{'Ivanov': 15, 'Petrov': 20}"
     },
     "execution_count": 11,
     "metadata": {},
     "output_type": "execute_result"
    }
   ],
   "execution_count": 11,
   "metadata": {
    "noteable": {
     "cell_type": "python"
    },
    "ExecuteTime": {
     "end_time": "2023-09-30T08:43:59.492935Z",
     "start_time": "2023-09-30T08:43:59.483242Z"
    }
   },
   "id": "ff753353-47f0-4d39-a3e8-182a4624cd2f"
  },
  {
   "cell_type": "markdown",
   "source": [
    "### <font color='#1334ab'>Задание №9: Представим, что нам даны 2 строки: \"s\" и \"t\". Нам нужно создать функцию, которая будет возвращать True, если t является анограммой строки s.\n",
    "\n",
    "<i>Анаграмма - Слово или словосочетание, образованное путём перестановки букв, составляющих другое слово (или словосочетание).\n",
    "\"Примеры анаграмм: «пила» и «липа», «пост» и «стоп»\"</i>\n",
    "\n",
    "</font>"
   ],
   "metadata": {
    "noteable": {
     "cell_type": "markdown"
    }
   },
   "id": "3c866be9-3fcf-49b6-87c8-ffef1c8a6e97"
  },
  {
   "cell_type": "code",
   "source": [
    "def is_anagram(s: str, t: str):\n",
    "    return sorted(s) == sorted(t) "
   ],
   "outputs": [],
   "execution_count": 12,
   "metadata": {
    "noteable": {
     "cell_type": "python"
    },
    "ExecuteTime": {
     "end_time": "2023-09-30T08:45:23.509691Z",
     "start_time": "2023-09-30T08:45:23.500579Z"
    }
   },
   "id": "c130b75a-ad2f-409b-8b68-dc1cbbf66150"
  },
  {
   "cell_type": "markdown",
   "source": [
    "### <font color='#1334ab'>Задание №10: Вернемся к тексту, представленному в Задании №__. Исключив из него слова короче 2 символов, а также знаки препинания и т.п., для каждого слова из этого текста подсчитаем, сколько раз оно встречалось в этом тексте ранее. Верните топ-5 слов, которые встречались в тексте наибольшее число раз.</font>"
   ],
   "metadata": {
    "noteable": {
     "cell_type": "markdown"
    }
   },
   "id": "69f91d74-9a7a-4963-b76a-ffe4317c8bb6"
  },
  {
   "cell_type": "code",
   "source": [
    "def top_five_words():\n",
    "    with open(\"input_text.txt\", 'r') as f:\n",
    "        text = f.read().lower().replace(\",\", \"\").replace(\"!\", \"\").split(\" \")\n",
    "        text = [t for t in text if len(t) > 2]\n",
    "        d = {}\n",
    "        for t in text:\n",
    "            if t in d:\n",
    "                d[t] += 1\n",
    "            else:\n",
    "                d[t] = 0\n",
    "        return sorted(d.items(), key=lambda x: x[1], reverse=True)[:5]\n",
    "    \n",
    "    "
   ],
   "outputs": [],
   "execution_count": 13,
   "metadata": {
    "noteable": {
     "cell_type": "python"
    },
    "ExecuteTime": {
     "end_time": "2023-09-30T08:48:56.982693Z",
     "start_time": "2023-09-30T08:48:56.971030Z"
    }
   },
   "id": "eaa7f025-75e5-4cfd-8ea9-9f1fa4904167"
  },
  {
   "cell_type": "markdown",
   "source": [
    "## 3. Кучи (Heap)\n",
    "\n",
    "\n",
    "![Image title](lesson_notebook_data/Heap.png)"
   ],
   "metadata": {
    "noteable": {
     "cell_type": "markdown"
    }
   },
   "id": "166b5cbb-3bb8-4a34-9919-61100f4e23c9"
  },
  {
   "cell_type": "markdown",
   "source": [
    "<html>\n",
    "<h3><center>Основные функции библиотеки heapq</center></h3>\n",
    "\n",
    "<table border=\"1\">\n",
    "    <tr>\n",
    "        <th>Название функции</th>\n",
    "        <th>Описание функции</th>\n",
    "    </tr>\n",
    "    <tr>\n",
    "        <td><b>heapq.heappush(heap, elem)</b></td>\n",
    "        <td>Добавляет элемент в кучу и пересортирует её.</td>\n",
    "    </tr>\n",
    "    <tr>\n",
    "        <td><b>heapq.heappop(heap)</td>\n",
    "        <td>Удаляет и возвращает наименьший элемент из кучи.</td>\n",
    "    </tr>\n",
    "    <tr>\n",
    "        <td><b>heapq.heappushpop(heap, elem)</td>\n",
    "        <td>Добавляет элемент в кучу и затем удаляет и возвращает наименьший элемент.</td>\n",
    "    </tr>\n",
    "    <tr>\n",
    "        <td><b>heapq.heapify(x)</td>\n",
    "        <td>Преобразует список x в кучу за время, пропорциональное O(len(x)).</td>\n",
    "    </tr>\n",
    "    <tr>\n",
    "        <td><b>heapq.heapreplace(heap, elem)</td>\n",
    "        <td>Удаляет наименьший элемент из кучи и заменяет его новым элементом, а затем возвращает удаленный элемент.</td>\n",
    "    </tr>\n",
    "    <tr>\n",
    "        <td><b>heapq.nlargest(n, iterable, key=None)</td>\n",
    "        <td>Возвращает n наибольших элементов из итерируемого объекта.</td>\n",
    "    </tr>\n",
    "    <tr>\n",
    "        <td><b>heapq.nsmallest(n, iterable, key=None)</td>\n",
    "        <td>Возвращает n наименьших элементов из итерируемого объекта.</td>\n",
    "    </tr>\n",
    "</table>\n",
    "\n",
    "</body>\n",
    "</html>"
   ],
   "metadata": {
    "noteable": {
     "cell_type": "markdown"
    }
   },
   "id": "971073f5-5024-41ff-a2f1-1212f172b468"
  },
  {
   "cell_type": "code",
   "source": [
    "# import lib\n",
    "import heapq"
   ],
   "outputs": [],
   "execution_count": 14,
   "metadata": {
    "noteable": {
     "cell_type": "python"
    },
    "ExecuteTime": {
     "end_time": "2023-09-30T08:49:04.823691Z",
     "start_time": "2023-09-30T08:49:04.764554Z"
    }
   },
   "id": "cee4479e-bcfd-4ec8-8ac9-f983b372ec74"
  },
  {
   "cell_type": "markdown",
   "source": [
    "### <font color='#1334ab'>Задание №11: Создадим список из 20 случайных целых чисел от 0 до 50, выведем его на экран, а затем преобразуем его в кучу и также выведем на экран.\n",
    "\n",
    "Попробуем совершить некоторые операции с кучей:\n",
    "- Выведем минимальное число\n",
    "- Добавим случайное число и посмотрим, как изменилась куча\n",
    "- Вернем минимальное число и удалим его из кучи\n",
    "</font>"
   ],
   "metadata": {
    "noteable": {
     "cell_type": "markdown"
    }
   },
   "id": "f835b767-1d14-499e-88c2-d36e8f366736"
  },
  {
   "cell_type": "code",
   "source": [
    "arr = [random.randint(0, 50) for _ in range(20)]\n",
    "\n",
    "heapq.heapify(arr)\n",
    "arr"
   ],
   "outputs": [
    {
     "data": {
      "text/plain": "[1, 2, 8, 9, 8, 16, 24, 15, 16, 34, 27, 21, 44, 42, 48, 28, 38, 35, 21, 35]"
     },
     "execution_count": 20,
     "metadata": {},
     "output_type": "execute_result"
    }
   ],
   "execution_count": 20,
   "metadata": {
    "noteable": {
     "cell_type": "python"
    },
    "ExecuteTime": {
     "end_time": "2023-09-30T08:55:10.636013Z",
     "start_time": "2023-09-30T08:55:10.635413Z"
    }
   },
   "id": "79901e68-ba5a-40d9-8a74-631005e56ef6"
  },
  {
   "cell_type": "code",
   "execution_count": 21,
   "outputs": [
    {
     "data": {
      "text/plain": "1"
     },
     "execution_count": 21,
     "metadata": {},
     "output_type": "execute_result"
    }
   ],
   "source": [
    "arr[0]"
   ],
   "metadata": {
    "collapsed": false,
    "ExecuteTime": {
     "end_time": "2023-09-30T08:55:16.554203Z",
     "start_time": "2023-09-30T08:55:16.547205Z"
    }
   },
   "id": "7845179be6a46910"
  },
  {
   "cell_type": "code",
   "execution_count": 23,
   "outputs": [],
   "source": [
    "heapq.heappush(arr, random.randint(-100, 100))"
   ],
   "metadata": {
    "collapsed": false,
    "ExecuteTime": {
     "end_time": "2023-09-30T08:55:50.640412Z",
     "start_time": "2023-09-30T08:55:50.633037Z"
    }
   },
   "id": "e77ac636fc6bb907"
  },
  {
   "cell_type": "code",
   "execution_count": 24,
   "outputs": [
    {
     "data": {
      "text/plain": "[-80,\n 1,\n 8,\n 9,\n 2,\n 16,\n 24,\n 15,\n 16,\n 8,\n 27,\n 21,\n 44,\n 42,\n 48,\n 28,\n 38,\n 35,\n 21,\n 35,\n 34]"
     },
     "execution_count": 24,
     "metadata": {},
     "output_type": "execute_result"
    }
   ],
   "source": [
    "arr"
   ],
   "metadata": {
    "collapsed": false,
    "ExecuteTime": {
     "end_time": "2023-09-30T08:55:52.165823Z",
     "start_time": "2023-09-30T08:55:52.159079Z"
    }
   },
   "id": "b89088304b3e265a"
  },
  {
   "cell_type": "code",
   "execution_count": 25,
   "outputs": [
    {
     "data": {
      "text/plain": "-80"
     },
     "execution_count": 25,
     "metadata": {},
     "output_type": "execute_result"
    }
   ],
   "source": [
    "min = heapq.heappop(arr)\n",
    "min"
   ],
   "metadata": {
    "collapsed": false,
    "ExecuteTime": {
     "end_time": "2023-09-30T08:56:33.187823Z",
     "start_time": "2023-09-30T08:56:33.180140Z"
    }
   },
   "id": "46562882f4ef9983"
  },
  {
   "cell_type": "code",
   "execution_count": 26,
   "outputs": [
    {
     "data": {
      "text/plain": "[1, 2, 8, 9, 8, 16, 24, 15, 16, 34, 27, 21, 44, 42, 48, 28, 38, 35, 21, 35]"
     },
     "execution_count": 26,
     "metadata": {},
     "output_type": "execute_result"
    }
   ],
   "source": [
    "arr"
   ],
   "metadata": {
    "collapsed": false,
    "ExecuteTime": {
     "end_time": "2023-09-30T08:56:36.203115Z",
     "start_time": "2023-09-30T08:56:36.196820Z"
    }
   },
   "id": "531de45b683f37a8"
  },
  {
   "cell_type": "markdown",
   "source": [
    "### <font color='#1334ab'>Задание №12: Нам дан список целых чисел [1, 5, 2]. Применив heapify, мы создадим кучу, и элемент 1 станет минимальным. Как сделать так, чтобы куча \"возвращала\" нам максимальный элемент?. \n",
    "</font>"
   ],
   "metadata": {
    "noteable": {
     "cell_type": "markdown"
    }
   },
   "id": "1ade2e8c-d5dc-4153-bb67-6f82acfdb80d"
  },
  {
   "cell_type": "code",
   "source": [
    "arr = [1, 5, 2]\n",
    "\n",
    "arr_negs = [-x for x in arr]\n",
    "heapq.heapify(arr_negs)\n",
    "\n",
    "max_value = -heapq.heappop(arr_negs)\n",
    "max_value"
   ],
   "outputs": [
    {
     "data": {
      "text/plain": "5"
     },
     "execution_count": 28,
     "metadata": {},
     "output_type": "execute_result"
    }
   ],
   "execution_count": 28,
   "metadata": {
    "noteable": {
     "cell_type": "python"
    },
    "ExecuteTime": {
     "end_time": "2023-09-30T09:03:48.761396Z",
     "start_time": "2023-09-30T09:03:48.748696Z"
    }
   },
   "id": "beaf75d9-d599-469d-9c9c-677935bf449a"
  },
  {
   "cell_type": "markdown",
   "source": [
    "### <font color='#1334ab'>Куча также позволяет возвращать минимальные значения для других объектов, например, кортежей, например...</font>"
   ],
   "metadata": {
    "noteable": {
     "cell_type": "markdown"
    }
   },
   "id": "c596e974-4d76-47b3-8175-646251ef0ccc"
  },
  {
   "cell_type": "code",
   "source": [
    "students = [(28, 'Jonny'), (24, 'Tony'), (21, 'Nick'), (24, 'Alice')]\n",
    "pass\n"
   ],
   "outputs": [],
   "execution_count": null,
   "metadata": {
    "noteable": {
     "cell_type": "python"
    },
    "ExecuteTime": {
     "end_time": "2023-09-29T20:04:16.026982+00:00",
     "start_time": "2023-09-29T20:04:15.872391+00:00"
    }
   },
   "id": "633183fd-8cca-4a89-9286-42c68bf9810b"
  },
  {
   "cell_type": "markdown",
   "source": [
    "### <font color='#CE1126'>Задание №13: Представьте, что у вас есть список дат(формат YYYY) рождения birth_years и список дат смерти death_years некой популяции. Как определить, в какой год численность популяции была наибольшей?\n",
    "    \n",
    "<i>Длительность периода может быть 10 лет, или 10 миллионов лет</i>    \n",
    "</font>"
   ],
   "metadata": {
    "noteable": {
     "cell_type": "markdown"
    }
   },
   "id": "e649e641-c17c-46c0-bf89-d04f09df312c"
  },
  {
   "cell_type": "code",
   "source": [
    "pass"
   ],
   "outputs": [],
   "execution_count": null,
   "metadata": {
    "noteable": {
     "cell_type": "python"
    }
   },
   "id": "6119a0fb-1fae-4d1f-9ed4-7b39277fc967"
  },
  {
   "cell_type": "code",
   "execution_count": null,
   "outputs": [],
   "source": [],
   "metadata": {
    "collapsed": false
   },
   "id": "719e3e8c00707bee"
  }
 ],
 "metadata": {
  "kernel_info": {
   "name": "python3"
  },
  "kernelspec": {
   "name": "python3",
   "display_name": "Python 3.9",
   "language": "python"
  },
  "selected_hardware_size": "small",
  "noteable": {
   "last_delta_id": "ec8da9a4-a5e8-42db-9728-bd5c4b8ea717"
  },
  "nteract": {
   "version": "noteable@2.9.0"
  }
 },
 "nbformat": 4,
 "nbformat_minor": 5
}
